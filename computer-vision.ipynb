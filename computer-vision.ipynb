{
 "cells": [
  {
   "cell_type": "markdown",
   "id": "3a80bae9",
   "metadata": {},
   "source": [
    "### Object Detection"
   ]
  },
  {
   "cell_type": "markdown",
   "id": "6fbf87df",
   "metadata": {},
   "source": [
    "Locate the presence of an image in the bounding box.  (First choice as it is lkess computationally expensive)\n",
    "\n",
    "Image Segmentation - identify and seperate distinct objetcs from the bounding box"
   ]
  },
  {
   "cell_type": "markdown",
   "id": "54ce8bba",
   "metadata": {},
   "source": [
    "- Sliding window - To search for features sliding through pixles\n",
    "- histogram of oriented gradients - focused on the shape of the object, extracts gradients and shape fo the object\n",
    "- RCNN - Regions with CNN - selective regions to apply the classifiers. (this was slow)\n",
    "- YOLO - Latest model"
   ]
  },
  {
   "cell_type": "markdown",
   "id": "791cd719",
   "metadata": {},
   "source": [
    "#### Metrics "
   ]
  },
  {
   "cell_type": "markdown",
   "id": "00e086cc",
   "metadata": {},
   "source": [
    "1. IoU (Intersection over Union) - to measure the Localization (how close is the predicted bounding box to the ground truth) - (0-1)\n",
    "    - IoU = area of the intersection of the boxes/sum of areas if the bounding boxes\n",
    "2. mAP - to measure the classification (how good is the classification)"
   ]
  },
  {
   "cell_type": "code",
   "execution_count": 1,
   "id": "b1ab02c2",
   "metadata": {},
   "outputs": [],
   "source": [
    "import numpy as np"
   ]
  },
  {
   "cell_type": "code",
   "execution_count": null,
   "id": "94e93eeb",
   "metadata": {},
   "outputs": [],
   "source": []
  }
 ],
 "metadata": {
  "kernelspec": {
   "display_name": "Python 3 (ipykernel)",
   "language": "python",
   "name": "python3"
  },
  "language_info": {
   "codemirror_mode": {
    "name": "ipython",
    "version": 3
   },
   "file_extension": ".py",
   "mimetype": "text/x-python",
   "name": "python",
   "nbconvert_exporter": "python",
   "pygments_lexer": "ipython3",
   "version": "3.10.8"
  }
 },
 "nbformat": 4,
 "nbformat_minor": 5
}
